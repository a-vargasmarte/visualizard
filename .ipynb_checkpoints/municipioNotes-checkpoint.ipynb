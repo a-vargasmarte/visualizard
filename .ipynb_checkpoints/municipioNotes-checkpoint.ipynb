{
 "cells": [
  {
   "cell_type": "code",
   "execution_count": 63,
   "metadata": {},
   "outputs": [],
   "source": [
    "import pandas as pd\n",
    "import numpy as np\n",
    "import matplotlib.pyplot as plt\n",
    "import seaborn as sns\n",
    "import json\n",
    "from difflib import SequenceMatcher\n",
    "%matplotlib inline"
   ]
  },
  {
   "cell_type": "code",
   "execution_count": 53,
   "metadata": {},
   "outputs": [],
   "source": [
    "municipios = pd.read_csv('municipioCoverage.csv')\n"
   ]
  },
  {
   "cell_type": "code",
   "execution_count": 34,
   "metadata": {},
   "outputs": [
    {
     "data": {
      "text/plain": [
       "254"
      ]
     },
     "execution_count": 34,
     "metadata": {},
     "output_type": "execute_result"
    }
   ],
   "source": [
    "len(municipios['municipio'].unique())"
   ]
  },
  {
   "cell_type": "code",
   "execution_count": 15,
   "metadata": {},
   "outputs": [],
   "source": [
    "geodata = json.load(open('data/dr-municipio.json'))\n",
    "# geodf = pd.DataFrame(geodata)"
   ]
  },
  {
   "cell_type": "code",
   "execution_count": 19,
   "metadata": {},
   "outputs": [
    {
     "data": {
      "text/plain": [
       "list"
      ]
     },
     "execution_count": 19,
     "metadata": {},
     "output_type": "execute_result"
    }
   ],
   "source": [
    "type(geodata['features'])"
   ]
  },
  {
   "cell_type": "code",
   "execution_count": 21,
   "metadata": {},
   "outputs": [
    {
     "data": {
      "text/plain": [
       "'Azua de Compostela'"
      ]
     },
     "execution_count": 21,
     "metadata": {},
     "output_type": "execute_result"
    }
   ],
   "source": [
    "geodata['features'][0]['properties']['NAME_2']"
   ]
  },
  {
   "cell_type": "code",
   "execution_count": 50,
   "metadata": {},
   "outputs": [],
   "source": [
    "def municipios():\n",
    "    municipioArray = []\n",
    "    for municipio in geodata['features']:\n",
    "        name = municipio['properties']['NAME_2']\n",
    "        municipioArray.append(name)\n",
    "    return municipioArray"
   ]
  },
  {
   "cell_type": "code",
   "execution_count": 51,
   "metadata": {},
   "outputs": [],
   "source": [
    "geoMunicipios = municipios()"
   ]
  },
  {
   "cell_type": "code",
   "execution_count": 62,
   "metadata": {},
   "outputs": [
    {
     "name": "stdout",
     "output_type": "stream",
     "text": [
      "['Azua de Compostela', 'Estebania', 'Guayabal', 'Las Charcas', 'Las Yayas de Viajama', 'Padre Las Casas', 'Peralta', 'Pueblo Viejo', 'Sabana Yegua', 'Villa Tabara Arriba', 'Galvan', 'Los Rios', 'Neyba', 'Tamayo', 'Villa Jaragua', 'Cabral', 'El Peñón', 'Enriquillo', 'Fundación', 'Jaquimeyes', 'La Cienaga', 'Las Salinas', 'Paraiso', 'Polo', 'Santa Cruz de Barahona', 'Vicente Noble', 'Dajabón', 'El Pino', 'Loma de Cabrera', 'Partido', 'Restauración', 'Distrito Nacional', 'Arenoso', 'Castillo', 'Hostos', 'Las Guaranas', 'Pimentel', 'San Francisco de Macorís', 'Villa Rivas', 'Miches', 'Santa Cruz del Seybo', 'Cayetano Germosén', 'Gaspar Hernández', 'Jamao al Norte', 'Moca', 'El Valle', 'Hato Mayor del Rey', 'Sabana de la Mar', 'Cristobal', 'Duvergé', 'Jimaní', 'La Descubierta', 'Mella', 'Postrer Rio', 'La Laguna de Nisibón', 'Salvaleón de Higüey', 'San Rafael del Yuma', 'Banica', 'Comendador', 'El Llano', 'Hondo Valle', 'Juan Santiago', 'Pedro Santana', 'Guaymate', 'La Romana', 'Villa Hermosa', 'Concepción de la Vega', 'Constanza', 'Jarabacoa', 'Jima Abajo', 'Cabrera', 'El Factor', 'Nagua', 'Rio San Juan', 'Bonao', 'Maimón', 'Piedra Blanca', 'Castañuela', 'Guayubín', 'Las Matas de Santa Cruz', 'Pepillo Salcedo', 'San Fernando de Monte Cristi', 'Villa Vázquez', 'Bayaguana', 'Esperalvillo', 'Monte Plata', 'Sabana Grande de Boyá', 'Yamasá', 'Pedernales', 'Baní', 'Nizao', 'Altamira', 'Guananico', 'Imbert', 'La Isabela', 'Los Hidalgos', 'Luperon', 'Montellano', 'San Felipe de Puerto Plata', 'Sosua', 'Salcedo', 'Tenares', 'Villa Tapia', 'Las Terrenas', 'Sánchez', 'Santa Bárbara de Samaná', 'Bajos de Haina', 'Cambita Garabito', 'Los Cacaos', 'Nigua', 'Sabana Grande de Palenque', 'San Cristóbal', 'San Gregorio de Yaguate', 'Villa Altagracia', 'Rancho Arriba', 'Sabana Larga', 'San José de Ocoa', 'Bohechio', 'El Cercado', 'Juan de Herrera', 'Las Matas de Farfan', 'San Juan de la Maguana', 'Vallejuelo', 'Consuelo', 'Guayacanes', 'Los Llanos', 'Quisquella', 'Ramón Santana', 'San Pedro de Macorís', 'Cevicos', 'Cotuí', 'Fantino', 'La Mata', 'Janico', 'Licey al Medio', 'Puñal', 'Sabana Iglesia', 'San José de Las Matas', 'Santiago de los Caballeros', 'Tamboril', 'Villa Bisonó', 'Villa Gonzalez', 'Los Almácigos', 'Monción', 'San Ignacio de Sabaneta', 'Boca Chica', 'Guerra', 'Los Alcarrizos', 'Pedro Brand', 'Santo Domingo Este', 'Santo Domingo Norte', 'Santo Domingo Oeste', 'Esperanza', 'Laguna Salada', 'Mao']\n"
     ]
    }
   ],
   "source": [
    "print(geoMunicipios)"
   ]
  },
  {
   "cell_type": "code",
   "execution_count": 52,
   "metadata": {},
   "outputs": [
    {
     "data": {
      "text/plain": [
       "list"
      ]
     },
     "execution_count": 52,
     "metadata": {},
     "output_type": "execute_result"
    }
   ],
   "source": [
    "type(geoMunicipios)"
   ]
  },
  {
   "cell_type": "code",
   "execution_count": 54,
   "metadata": {},
   "outputs": [],
   "source": [
    "municipios = municipios['municipio']"
   ]
  },
  {
   "cell_type": "code",
   "execution_count": 59,
   "metadata": {},
   "outputs": [],
   "source": [
    "uniqueMunicipios = municipios.unique()"
   ]
  },
  {
   "cell_type": "code",
   "execution_count": 61,
   "metadata": {},
   "outputs": [
    {
     "name": "stdout",
     "output_type": "stream",
     "text": [
      "['AGUA SANTA DEL YUNA(DM)' 'ALTAMIRA' 'AMINA(DM)' 'ARENOSO'\n",
      " 'ARROYO SALADO (DM)' 'AZUA DE COMPOSTELA' 'BAITOA (D.M.)' 'BAITOA (DM)'\n",
      " 'BAJOS DE HAINA' 'BANI' 'BANICA' 'BAYAGUANA' 'BLANCO(DM)' 'BOCA CHICA'\n",
      " 'BOCA DE YUMA' 'BOHECHIO' 'BONAO' 'CABARETE(DM)' 'CABRAL' 'CABRERA'\n",
      " 'CAMBITA GARABITO' 'CANA CHAPETON (D.M.)' 'CANA CHAPETON (DM)' 'CANOA'\n",
      " 'CASTANUELAS' 'CASTAnUELAS' 'CASTILLO' 'CAYETANO GERMOSEN' 'CENOVI (DM)'\n",
      " 'CEVICOS' 'CHIRINO (DM)' 'COMENDADOR' 'CONCEPCION DE LA VEGA' 'CONSTANZA'\n",
      " 'CONSUELO' 'COTUI' 'CRISTOBAL' 'CRITO REY DE GUARAGUAO(DM)' 'DAJABON'\n",
      " 'DISTRITO NACIONAL' 'DON JUAN' 'DUVERGE' 'EL CACHON (DM)'\n",
      " 'EL CARRIL (D.M.)' 'EL CARRIL (DM)' 'EL CERCADO' 'EL FACTOR'\n",
      " 'EL LIMON (DM)' 'EL LLANO' 'EL PALMAR (DM)' 'EL PALMAR ARRIBA' 'EL PENON'\n",
      " 'EL PEnON' 'EL PINO' 'EL POZO (DM)' 'EL PUERTO (DM)' 'EL RANCHITO (DM)'\n",
      " 'EL RUBIO(DM)' 'EL VALLE' 'ENRIQUILLO' 'ESPERALVILLO' 'ESPERANZA'\n",
      " 'ESTEBANIA' 'ESTERO HONDO(DM)' 'FANTINO' 'FONDO NEGRO (DM)' 'FUNDACION'\n",
      " 'GALVAN' 'GASPAR HERNANDEZ' 'GAUTIER(DM)' 'GONZALO(DM)' 'GUANANICO'\n",
      " 'GUATAPANA(DM)' 'GUAYABAL' 'GUAYABO DULCE (DM)' 'GUAYACANES(DM)'\n",
      " 'GUAYMATE' 'GUAYUBIN' 'GUERRA (DM)' 'HATILLO PALMA(DM)'\n",
      " 'HATO DEL YAQUE (DM)' 'HATO MAYOR DEL REY' 'HIGUERITO (DM)' 'HONDO VALLE'\n",
      " 'HOSTOS' 'IMBERT' 'INGENIO QUISQUEYA' 'JAIBON (DM)' 'JAIBON(DM)'\n",
      " 'JAMAO AL NORTE' 'JANICO' 'JAQUIMEYES' 'JARABACOA' 'JIMA ABAJO' 'JIMANI'\n",
      " 'JOBA ARRIBA' 'JOSE CONTRERAS' 'JUAN ADRIAN (DM)' 'JUAN DE HERRERA'\n",
      " 'JUAN LOPEZ ABAJO (EL MAMEY) DM' 'JUAN SANTIAGO' 'JUANCHO (DM)'\n",
      " 'JUMA BEJUCAL (DM)' 'JUNCALITO (DM)' 'LA BIJA (DM)' 'LA CAYA (D.M.)'\n",
      " 'LA CAYA (DM)' 'LA CIENEGA' 'LA CIENEGA (DM)' 'LA DESCUBIERTA'\n",
      " 'LA ENTRADA (DM)' 'LA ISABELA(DM)' 'LA LAGUNA DEL NISIBON'\n",
      " 'LA OTRA BANDA' 'LA PEYA (DM)' 'LA ROMANA' 'LA VICTORIA (DM)'\n",
      " 'LAGUNA SALADA' 'LAS CANELAS(FM)' 'LAS CANITAS' 'LAS CAnITAS'\n",
      " 'LAS CHARCAS' 'LAS CUEVAS' 'LAS GUARANAS' 'LAS MATAS DE FARFAN'\n",
      " 'LAS MATAS DE SANTA CRUZ' 'LAS SALINAS' 'LAS TARANAS (DM)' 'LAS TERRENAS'\n",
      " 'LAS YAYAS DE VIAJAMA' 'LICEY AL MEDIO' 'LIMON (DM)' 'LOMA DE CABRERA'\n",
      " 'LOS ALCARRIZOS (DM)' 'LOS ALMACIGOS' 'LOS BOTADOS(DM)' 'LOS CACAOS'\n",
      " 'LOS HIDALGOS' 'LOS RIOS (DM)' 'LUPERON' 'MAIMON' 'MAIZAL(DM)' 'MAJAGUAL'\n",
      " 'MAO' 'MATA PALACIO (DM)' 'MATANZAS' 'MATAYAYA(DM)' 'MELLA' 'MICHES'\n",
      " 'MOCA' 'MONCION' 'MONTE PLATA' 'NAGUA' 'NEYBA' 'NIGUA' 'NIZAO' 'OVIEDO'\n",
      " 'PADRE LAS CASAS' 'PALMAR DE OCOA (D.M.)' 'PALMAR DE OCOA (DM)' 'PANTOJA'\n",
      " 'PARAISO' 'PARTIDO' 'PAYA' 'PEDERNALES' 'PEDRO BRAND (DM)'\n",
      " 'PEDRO CORTO(DM)' 'PEDRO GARCIA' 'PEDRO SANCHEZ' 'PEDRO SANTANA'\n",
      " 'PEPILLO SALCEDO' 'PERALTA' 'PESCADERIA (DM)' 'PIEDRA BLANCA' 'PIMENTEL'\n",
      " 'PIZARRETTE' 'POLO D.M.' 'POLO DM' 'POSTER RIO' 'PUEBLO VIEJO' 'PUNAL'\n",
      " 'PUnAL' 'QUITA CORAZA (DM)' 'RAMON SANTANA' 'RANCHO ARRIBA'\n",
      " 'RESTAURACION' 'RINCON(DM)' 'RIO LIMPIO' 'RIO SAN JUAN'\n",
      " 'RIO VERDE ARRIBA(DM)' 'SABANA BUEY' 'SABANA DE LA MAR'\n",
      " 'SABANA DEL PUERTO' 'SABANA GRANDE DE BOYA' 'SABANA GRANDE DE PALENQUE'\n",
      " 'SABANA IGLESIA' 'SABANA LARGA' 'SABANA YEGUA' 'SABANETA DE YASICA(DM)'\n",
      " 'SAL VALEON DE HIGUEY' 'SALCEDO' 'SAN CRISTOBAL'\n",
      " 'SAN FELIPE DE PUERTO PLATA' 'SAN FERNANDO DE MONTECRISTI'\n",
      " 'SAN FRANCISCO DE JACAGUA' 'SAN FRANCISCO DE MACORIS'\n",
      " 'SAN GREGORIO DE YAGUATE' 'SAN IGNACIO DE SABANETA'\n",
      " 'SAN JOSE DE LAS MATAS' 'SAN JOSE DE LOS LLANOS'\n",
      " 'SAN JOSE DE MATANZAS(DM)' 'SAN JOSE DE OCOA' 'SAN JUAN DE LA MAGUANA'\n",
      " 'SAN PEDRO DE MACORIS' 'SAN RAFAEL DEL YUMA' 'SAN VICTOR' 'SANCHEZ'\n",
      " 'SANTA BARBARA DE SAMANA' 'SANTA CRUZ DE BARAHONA' 'SANTA CRUZ DEL SEYBO'\n",
      " 'SANTANA(DM)' 'SANTIAGO DE LOS CABALLEROS' 'SANTO DOMINGO ESTE'\n",
      " 'SANTO DOMINGO NORTE' 'SANTO DOMINGO OESTE' 'SOSUA' 'TAMAYO' 'TAMBORIL'\n",
      " 'TENARES' 'TIREO ARRIBA' 'UVILLA (DM)' 'VALLEJUELO' 'VERAGUA (D.M.)'\n",
      " 'VERAGUA (DM)' 'VERON' 'VICENTE NOBLE' 'VILLA ALTAGRACIA' 'VILLA ELISA'\n",
      " 'VILLA FUNDACION' 'VILLA GONZALEZ' 'VILLA HERMOSA' 'VILLA ISABELA'\n",
      " 'VILLA JARAGUA' 'VILLA LAS MATAS' 'VILLA MONTE LLANO (D.M.)'\n",
      " 'VILLA MONTE LLANO (DM)' 'VILLA RIVA' 'VILLA SONADOR(DM)'\n",
      " 'VILLA TABARA ARRIBA' 'VILLA TAPIA' 'VILLA VASQUEZ' 'VILLAS BISONO'\n",
      " 'YAMASA' 'YERBA BUENA']\n"
     ]
    }
   ],
   "source": [
    "print(uniqueMunicipios)"
   ]
  },
  {
   "cell_type": "code",
   "execution_count": 56,
   "metadata": {},
   "outputs": [
    {
     "name": "stdout",
     "output_type": "stream",
     "text": [
      "set()\n"
     ]
    }
   ],
   "source": [
    "def Intersection(lst1, lst2): \n",
    "    return set(lst1).intersection(lst2) \n",
    "      \n",
    "# Driver Code \n",
    "# lst1 = [ 4, 9, 1, 17, 11, 26, 28, 28, 26, 66, 91] \n",
    "# lst2 = [9, 9, 74, 21, 45, 11, 63] \n",
    "print(Intersection(municipios, geoMunicipios)) "
   ]
  },
  {
   "cell_type": "code",
   "execution_count": 64,
   "metadata": {},
   "outputs": [
    {
     "data": {
      "text/plain": [
       "'agua santa del yuna(dm)'"
      ]
     },
     "execution_count": 64,
     "metadata": {},
     "output_type": "execute_result"
    }
   ],
   "source": [
    "municipios[0].lower()"
   ]
  },
  {
   "cell_type": "code",
   "execution_count": 73,
   "metadata": {},
   "outputs": [],
   "source": [
    "lowerMunicipio = []\n",
    "for municipio in uniqueMunicipios:\n",
    "    municipio = municipio.lower()\n",
    "    lowerMunicipio.append(municipio)\n",
    "\n",
    "geoLowerMunicipio = []\n",
    "for geoMunicipio in geoMunicipios:\n",
    "    geoMunicipio = geoMunicipio.lower()\n",
    "    geoLowerMunicipio.append(geoMunicipio)"
   ]
  },
  {
   "cell_type": "code",
   "execution_count": 74,
   "metadata": {},
   "outputs": [
    {
     "data": {
      "text/plain": [
       "['agua santa del yuna(dm)',\n",
       " 'altamira',\n",
       " 'amina(dm)',\n",
       " 'arenoso',\n",
       " 'arroyo salado (dm)',\n",
       " 'azua de compostela',\n",
       " 'baitoa (d.m.)',\n",
       " 'baitoa (dm)',\n",
       " 'bajos de haina',\n",
       " 'bani',\n",
       " 'banica',\n",
       " 'bayaguana',\n",
       " 'blanco(dm)',\n",
       " 'boca chica',\n",
       " 'boca de yuma',\n",
       " 'bohechio',\n",
       " 'bonao',\n",
       " 'cabarete(dm)',\n",
       " 'cabral',\n",
       " 'cabrera',\n",
       " 'cambita garabito',\n",
       " 'cana chapeton (d.m.)',\n",
       " 'cana chapeton (dm)',\n",
       " 'canoa',\n",
       " 'castanuelas',\n",
       " 'castanuelas',\n",
       " 'castillo',\n",
       " 'cayetano germosen',\n",
       " 'cenovi (dm)',\n",
       " 'cevicos',\n",
       " 'chirino (dm)',\n",
       " 'comendador',\n",
       " 'concepcion de la vega',\n",
       " 'constanza',\n",
       " 'consuelo',\n",
       " 'cotui',\n",
       " 'cristobal',\n",
       " 'crito rey de guaraguao(dm)',\n",
       " 'dajabon',\n",
       " 'distrito nacional',\n",
       " 'don juan',\n",
       " 'duverge',\n",
       " 'el cachon (dm)',\n",
       " 'el carril (d.m.)',\n",
       " 'el carril (dm)',\n",
       " 'el cercado',\n",
       " 'el factor',\n",
       " 'el limon (dm)',\n",
       " 'el llano',\n",
       " 'el palmar (dm)',\n",
       " 'el palmar arriba',\n",
       " 'el penon',\n",
       " 'el penon',\n",
       " 'el pino',\n",
       " 'el pozo (dm)',\n",
       " 'el puerto (dm)',\n",
       " 'el ranchito (dm)',\n",
       " 'el rubio(dm)',\n",
       " 'el valle',\n",
       " 'enriquillo',\n",
       " 'esperalvillo',\n",
       " 'esperanza',\n",
       " 'estebania',\n",
       " 'estero hondo(dm)',\n",
       " 'fantino',\n",
       " 'fondo negro (dm)',\n",
       " 'fundacion',\n",
       " 'galvan',\n",
       " 'gaspar hernandez',\n",
       " 'gautier(dm)',\n",
       " 'gonzalo(dm)',\n",
       " 'guananico',\n",
       " 'guatapana(dm)',\n",
       " 'guayabal',\n",
       " 'guayabo dulce (dm)',\n",
       " 'guayacanes(dm)',\n",
       " 'guaymate',\n",
       " 'guayubin',\n",
       " 'guerra (dm)',\n",
       " 'hatillo palma(dm)',\n",
       " 'hato del yaque (dm)',\n",
       " 'hato mayor del rey',\n",
       " 'higuerito (dm)',\n",
       " 'hondo valle',\n",
       " 'hostos',\n",
       " 'imbert',\n",
       " 'ingenio quisqueya',\n",
       " 'jaibon (dm)',\n",
       " 'jaibon(dm)',\n",
       " 'jamao al norte',\n",
       " 'janico',\n",
       " 'jaquimeyes',\n",
       " 'jarabacoa',\n",
       " 'jima abajo',\n",
       " 'jimani',\n",
       " 'joba arriba',\n",
       " 'jose contreras',\n",
       " 'juan adrian (dm)',\n",
       " 'juan de herrera',\n",
       " 'juan lopez abajo (el mamey) dm',\n",
       " 'juan santiago',\n",
       " 'juancho (dm)',\n",
       " 'juma bejucal (dm)',\n",
       " 'juncalito (dm)',\n",
       " 'la bija (dm)',\n",
       " 'la caya (d.m.)',\n",
       " 'la caya (dm)',\n",
       " 'la cienega',\n",
       " 'la cienega (dm)',\n",
       " 'la descubierta',\n",
       " 'la entrada (dm)',\n",
       " 'la isabela(dm)',\n",
       " 'la laguna del nisibon',\n",
       " 'la otra banda',\n",
       " 'la peya (dm)',\n",
       " 'la romana',\n",
       " 'la victoria (dm)',\n",
       " 'laguna salada',\n",
       " 'las canelas(fm)',\n",
       " 'las canitas',\n",
       " 'las canitas',\n",
       " 'las charcas',\n",
       " 'las cuevas',\n",
       " 'las guaranas',\n",
       " 'las matas de farfan',\n",
       " 'las matas de santa cruz',\n",
       " 'las salinas',\n",
       " 'las taranas (dm)',\n",
       " 'las terrenas',\n",
       " 'las yayas de viajama',\n",
       " 'licey al medio',\n",
       " 'limon (dm)',\n",
       " 'loma de cabrera',\n",
       " 'los alcarrizos (dm)',\n",
       " 'los almacigos',\n",
       " 'los botados(dm)',\n",
       " 'los cacaos',\n",
       " 'los hidalgos',\n",
       " 'los rios (dm)',\n",
       " 'luperon',\n",
       " 'maimon',\n",
       " 'maizal(dm)',\n",
       " 'majagual',\n",
       " 'mao',\n",
       " 'mata palacio (dm)',\n",
       " 'matanzas',\n",
       " 'matayaya(dm)',\n",
       " 'mella',\n",
       " 'miches',\n",
       " 'moca',\n",
       " 'moncion',\n",
       " 'monte plata',\n",
       " 'nagua',\n",
       " 'neyba',\n",
       " 'nigua',\n",
       " 'nizao',\n",
       " 'oviedo',\n",
       " 'padre las casas',\n",
       " 'palmar de ocoa (d.m.)',\n",
       " 'palmar de ocoa (dm)',\n",
       " 'pantoja',\n",
       " 'paraiso',\n",
       " 'partido',\n",
       " 'paya',\n",
       " 'pedernales',\n",
       " 'pedro brand (dm)',\n",
       " 'pedro corto(dm)',\n",
       " 'pedro garcia',\n",
       " 'pedro sanchez',\n",
       " 'pedro santana',\n",
       " 'pepillo salcedo',\n",
       " 'peralta',\n",
       " 'pescaderia (dm)',\n",
       " 'piedra blanca',\n",
       " 'pimentel',\n",
       " 'pizarrette',\n",
       " 'polo d.m.',\n",
       " 'polo dm',\n",
       " 'poster rio',\n",
       " 'pueblo viejo',\n",
       " 'punal',\n",
       " 'punal',\n",
       " 'quita coraza (dm)',\n",
       " 'ramon santana',\n",
       " 'rancho arriba',\n",
       " 'restauracion',\n",
       " 'rincon(dm)',\n",
       " 'rio limpio',\n",
       " 'rio san juan',\n",
       " 'rio verde arriba(dm)',\n",
       " 'sabana buey',\n",
       " 'sabana de la mar',\n",
       " 'sabana del puerto',\n",
       " 'sabana grande de boya',\n",
       " 'sabana grande de palenque',\n",
       " 'sabana iglesia',\n",
       " 'sabana larga',\n",
       " 'sabana yegua',\n",
       " 'sabaneta de yasica(dm)',\n",
       " 'sal valeon de higuey',\n",
       " 'salcedo',\n",
       " 'san cristobal',\n",
       " 'san felipe de puerto plata',\n",
       " 'san fernando de montecristi',\n",
       " 'san francisco de jacagua',\n",
       " 'san francisco de macoris',\n",
       " 'san gregorio de yaguate',\n",
       " 'san ignacio de sabaneta',\n",
       " 'san jose de las matas',\n",
       " 'san jose de los llanos',\n",
       " 'san jose de matanzas(dm)',\n",
       " 'san jose de ocoa',\n",
       " 'san juan de la maguana',\n",
       " 'san pedro de macoris',\n",
       " 'san rafael del yuma',\n",
       " 'san victor',\n",
       " 'sanchez',\n",
       " 'santa barbara de samana',\n",
       " 'santa cruz de barahona',\n",
       " 'santa cruz del seybo',\n",
       " 'santana(dm)',\n",
       " 'santiago de los caballeros',\n",
       " 'santo domingo este',\n",
       " 'santo domingo norte',\n",
       " 'santo domingo oeste',\n",
       " 'sosua',\n",
       " 'tamayo',\n",
       " 'tamboril',\n",
       " 'tenares',\n",
       " 'tireo arriba',\n",
       " 'uvilla (dm)',\n",
       " 'vallejuelo',\n",
       " 'veragua (d.m.)',\n",
       " 'veragua (dm)',\n",
       " 'veron',\n",
       " 'vicente noble',\n",
       " 'villa altagracia',\n",
       " 'villa elisa',\n",
       " 'villa fundacion',\n",
       " 'villa gonzalez',\n",
       " 'villa hermosa',\n",
       " 'villa isabela',\n",
       " 'villa jaragua',\n",
       " 'villa las matas',\n",
       " 'villa monte llano (d.m.)',\n",
       " 'villa monte llano (dm)',\n",
       " 'villa riva',\n",
       " 'villa sonador(dm)',\n",
       " 'villa tabara arriba',\n",
       " 'villa tapia',\n",
       " 'villa vasquez',\n",
       " 'villas bisono',\n",
       " 'yamasa',\n",
       " 'yerba buena']"
      ]
     },
     "execution_count": 74,
     "metadata": {},
     "output_type": "execute_result"
    }
   ],
   "source": [
    "lowerMunicipio"
   ]
  },
  {
   "cell_type": "code",
   "execution_count": null,
   "metadata": {},
   "outputs": [],
   "source": [
    "print()"
   ]
  }
 ],
 "metadata": {
  "kernelspec": {
   "display_name": "Python 3",
   "language": "python",
   "name": "python3"
  },
  "language_info": {
   "codemirror_mode": {
    "name": "ipython",
    "version": 3
   },
   "file_extension": ".py",
   "mimetype": "text/x-python",
   "name": "python",
   "nbconvert_exporter": "python",
   "pygments_lexer": "ipython3",
   "version": "3.6.8"
  }
 },
 "nbformat": 4,
 "nbformat_minor": 2
}
